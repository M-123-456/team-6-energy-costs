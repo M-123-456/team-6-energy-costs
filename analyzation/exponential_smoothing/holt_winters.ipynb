{
 "cells": [
  {
   "cell_type": "code",
   "execution_count": 2,
   "metadata": {},
   "outputs": [],
   "source": [
    "# imports\n",
    "import numpy as np\n",
    "import pandas as pd\n",
    "from datetime import datetime\n",
    "import seaborn as sns\n",
    "from pylab import rcParams\n",
    "import matplotlib.pyplot as plt"
   ]
  },
  {
   "cell_type": "code",
   "execution_count": 9,
   "metadata": {},
   "outputs": [],
   "source": [
    "df_energy_2021 = pd.read_csv('../../data/prepared/df_energy_2021.csv')\n",
    "df_energy_2020 = pd.read_csv('../../data/prepared/df_energy_2020.csv')"
   ]
  },
  {
   "attachments": {},
   "cell_type": "markdown",
   "metadata": {},
   "source": [
    "## Exponential Smoothing\n",
    "\n",
    "#### Holt-Winters model\n",
    "- has Trend\n",
    "- has Seasonality\n",
    "- Not random"
   ]
  },
  {
   "cell_type": "code",
   "execution_count": 14,
   "metadata": {},
   "outputs": [
    {
     "ename": "TypeError",
     "evalue": "Only valid with DatetimeIndex, TimedeltaIndex or PeriodIndex, but got an instance of 'Index'",
     "output_type": "error",
     "traceback": [
      "\u001b[0;31m---------------------------------------------------------------------------\u001b[0m",
      "\u001b[0;31mTypeError\u001b[0m                                 Traceback (most recent call last)",
      "Cell \u001b[0;32mIn[14], line 5\u001b[0m\n\u001b[1;32m      3\u001b[0m sr_exp_smoothing\u001b[39m.\u001b[39mset_index(\u001b[39m'\u001b[39m\u001b[39mdatetime\u001b[39m\u001b[39m'\u001b[39m, inplace\u001b[39m=\u001b[39m\u001b[39mTrue\u001b[39;00m)\n\u001b[1;32m      4\u001b[0m \u001b[39m# resample the data - take day as unit(use mean value)\u001b[39;00m\n\u001b[0;32m----> 5\u001b[0m sr_exp_smoothing \u001b[39m=\u001b[39m sr_exp_smoothing[\u001b[39m'\u001b[39;49m\u001b[39menergy_price\u001b[39;49m\u001b[39m'\u001b[39;49m]\u001b[39m.\u001b[39;49mresample(rule\u001b[39m=\u001b[39;49m\u001b[39m'\u001b[39;49m\u001b[39mD\u001b[39;49m\u001b[39m'\u001b[39;49m)\u001b[39m.\u001b[39mmean()\n",
      "File \u001b[0;32m~/opt/anaconda3/envs/Techlabs/lib/python3.9/site-packages/pandas/core/series.py:5872\u001b[0m, in \u001b[0;36mSeries.resample\u001b[0;34m(self, rule, axis, closed, label, convention, kind, loffset, base, on, level, origin, offset, group_keys)\u001b[0m\n\u001b[1;32m   5855\u001b[0m \u001b[39m@doc\u001b[39m(NDFrame\u001b[39m.\u001b[39mresample, \u001b[39m*\u001b[39m\u001b[39m*\u001b[39m_shared_doc_kwargs)  \u001b[39m# type: ignore[has-type]\u001b[39;00m\n\u001b[1;32m   5856\u001b[0m \u001b[39mdef\u001b[39;00m \u001b[39mresample\u001b[39m(\n\u001b[1;32m   5857\u001b[0m     \u001b[39mself\u001b[39m,\n\u001b[0;32m   (...)\u001b[0m\n\u001b[1;32m   5870\u001b[0m     group_keys: \u001b[39mbool\u001b[39m \u001b[39m|\u001b[39m lib\u001b[39m.\u001b[39mNoDefault \u001b[39m=\u001b[39m no_default,\n\u001b[1;32m   5871\u001b[0m ) \u001b[39m-\u001b[39m\u001b[39m>\u001b[39m Resampler:\n\u001b[0;32m-> 5872\u001b[0m     \u001b[39mreturn\u001b[39;00m \u001b[39msuper\u001b[39;49m()\u001b[39m.\u001b[39;49mresample(\n\u001b[1;32m   5873\u001b[0m         rule\u001b[39m=\u001b[39;49mrule,\n\u001b[1;32m   5874\u001b[0m         axis\u001b[39m=\u001b[39;49maxis,\n\u001b[1;32m   5875\u001b[0m         closed\u001b[39m=\u001b[39;49mclosed,\n\u001b[1;32m   5876\u001b[0m         label\u001b[39m=\u001b[39;49mlabel,\n\u001b[1;32m   5877\u001b[0m         convention\u001b[39m=\u001b[39;49mconvention,\n\u001b[1;32m   5878\u001b[0m         kind\u001b[39m=\u001b[39;49mkind,\n\u001b[1;32m   5879\u001b[0m         loffset\u001b[39m=\u001b[39;49mloffset,\n\u001b[1;32m   5880\u001b[0m         base\u001b[39m=\u001b[39;49mbase,\n\u001b[1;32m   5881\u001b[0m         on\u001b[39m=\u001b[39;49mon,\n\u001b[1;32m   5882\u001b[0m         level\u001b[39m=\u001b[39;49mlevel,\n\u001b[1;32m   5883\u001b[0m         origin\u001b[39m=\u001b[39;49morigin,\n\u001b[1;32m   5884\u001b[0m         offset\u001b[39m=\u001b[39;49moffset,\n\u001b[1;32m   5885\u001b[0m         group_keys\u001b[39m=\u001b[39;49mgroup_keys,\n\u001b[1;32m   5886\u001b[0m     )\n",
      "File \u001b[0;32m~/opt/anaconda3/envs/Techlabs/lib/python3.9/site-packages/pandas/core/generic.py:8858\u001b[0m, in \u001b[0;36mNDFrame.resample\u001b[0;34m(self, rule, axis, closed, label, convention, kind, loffset, base, on, level, origin, offset, group_keys)\u001b[0m\n\u001b[1;32m   8855\u001b[0m \u001b[39mfrom\u001b[39;00m \u001b[39mpandas\u001b[39;00m\u001b[39m.\u001b[39;00m\u001b[39mcore\u001b[39;00m\u001b[39m.\u001b[39;00m\u001b[39mresample\u001b[39;00m \u001b[39mimport\u001b[39;00m get_resampler\n\u001b[1;32m   8857\u001b[0m axis \u001b[39m=\u001b[39m \u001b[39mself\u001b[39m\u001b[39m.\u001b[39m_get_axis_number(axis)\n\u001b[0;32m-> 8858\u001b[0m \u001b[39mreturn\u001b[39;00m get_resampler(\n\u001b[1;32m   8859\u001b[0m     \u001b[39mself\u001b[39;49m,\n\u001b[1;32m   8860\u001b[0m     freq\u001b[39m=\u001b[39;49mrule,\n\u001b[1;32m   8861\u001b[0m     label\u001b[39m=\u001b[39;49mlabel,\n\u001b[1;32m   8862\u001b[0m     closed\u001b[39m=\u001b[39;49mclosed,\n\u001b[1;32m   8863\u001b[0m     axis\u001b[39m=\u001b[39;49maxis,\n\u001b[1;32m   8864\u001b[0m     kind\u001b[39m=\u001b[39;49mkind,\n\u001b[1;32m   8865\u001b[0m     loffset\u001b[39m=\u001b[39;49mloffset,\n\u001b[1;32m   8866\u001b[0m     convention\u001b[39m=\u001b[39;49mconvention,\n\u001b[1;32m   8867\u001b[0m     base\u001b[39m=\u001b[39;49mbase,\n\u001b[1;32m   8868\u001b[0m     key\u001b[39m=\u001b[39;49mon,\n\u001b[1;32m   8869\u001b[0m     level\u001b[39m=\u001b[39;49mlevel,\n\u001b[1;32m   8870\u001b[0m     origin\u001b[39m=\u001b[39;49morigin,\n\u001b[1;32m   8871\u001b[0m     offset\u001b[39m=\u001b[39;49moffset,\n\u001b[1;32m   8872\u001b[0m     group_keys\u001b[39m=\u001b[39;49mgroup_keys,\n\u001b[1;32m   8873\u001b[0m )\n",
      "File \u001b[0;32m~/opt/anaconda3/envs/Techlabs/lib/python3.9/site-packages/pandas/core/resample.py:1544\u001b[0m, in \u001b[0;36mget_resampler\u001b[0;34m(obj, kind, **kwds)\u001b[0m\n\u001b[1;32m   1540\u001b[0m \u001b[39m\"\"\"\u001b[39;00m\n\u001b[1;32m   1541\u001b[0m \u001b[39mCreate a TimeGrouper and return our resampler.\u001b[39;00m\n\u001b[1;32m   1542\u001b[0m \u001b[39m\"\"\"\u001b[39;00m\n\u001b[1;32m   1543\u001b[0m tg \u001b[39m=\u001b[39m TimeGrouper(\u001b[39m*\u001b[39m\u001b[39m*\u001b[39mkwds)\n\u001b[0;32m-> 1544\u001b[0m \u001b[39mreturn\u001b[39;00m tg\u001b[39m.\u001b[39;49m_get_resampler(obj, kind\u001b[39m=\u001b[39;49mkind)\n",
      "File \u001b[0;32m~/opt/anaconda3/envs/Techlabs/lib/python3.9/site-packages/pandas/core/resample.py:1725\u001b[0m, in \u001b[0;36mTimeGrouper._get_resampler\u001b[0;34m(self, obj, kind)\u001b[0m\n\u001b[1;32m   1720\u001b[0m \u001b[39melif\u001b[39;00m \u001b[39misinstance\u001b[39m(ax, TimedeltaIndex):\n\u001b[1;32m   1721\u001b[0m     \u001b[39mreturn\u001b[39;00m TimedeltaIndexResampler(\n\u001b[1;32m   1722\u001b[0m         obj, groupby\u001b[39m=\u001b[39m\u001b[39mself\u001b[39m, axis\u001b[39m=\u001b[39m\u001b[39mself\u001b[39m\u001b[39m.\u001b[39maxis, group_keys\u001b[39m=\u001b[39m\u001b[39mself\u001b[39m\u001b[39m.\u001b[39mgroup_keys\n\u001b[1;32m   1723\u001b[0m     )\n\u001b[0;32m-> 1725\u001b[0m \u001b[39mraise\u001b[39;00m \u001b[39mTypeError\u001b[39;00m(\n\u001b[1;32m   1726\u001b[0m     \u001b[39m\"\u001b[39m\u001b[39mOnly valid with DatetimeIndex, \u001b[39m\u001b[39m\"\u001b[39m\n\u001b[1;32m   1727\u001b[0m     \u001b[39m\"\u001b[39m\u001b[39mTimedeltaIndex or PeriodIndex, \u001b[39m\u001b[39m\"\u001b[39m\n\u001b[1;32m   1728\u001b[0m     \u001b[39mf\u001b[39m\u001b[39m\"\u001b[39m\u001b[39mbut got an instance of \u001b[39m\u001b[39m'\u001b[39m\u001b[39m{\u001b[39;00m\u001b[39mtype\u001b[39m(ax)\u001b[39m.\u001b[39m\u001b[39m__name__\u001b[39m\u001b[39m}\u001b[39;00m\u001b[39m'\u001b[39m\u001b[39m\"\u001b[39m\n\u001b[1;32m   1729\u001b[0m )\n",
      "\u001b[0;31mTypeError\u001b[0m: Only valid with DatetimeIndex, TimedeltaIndex or PeriodIndex, but got an instance of 'Index'"
     ]
    }
   ],
   "source": [
    "# Exponential smoothing\n",
    "sr_exp_smoothing = df_energy_2020.copy()\n",
    "sr_exp_smoothing.set_index('datetime', inplace=True)\n",
    "# resample the data - take day as unit(use mean value)\n",
    "sr_exp_smoothing = sr_exp_smoothing['energy_price'].resample(rule='D').mean()"
   ]
  },
  {
   "cell_type": "code",
   "execution_count": null,
   "metadata": {},
   "outputs": [],
   "source": [
    "# set figure size\n",
    "rcParams['figure.figsize'] = 8,6\n",
    "# plot\n",
    "sr_exp_smoothing.plot()"
   ]
  },
  {
   "cell_type": "code",
   "execution_count": null,
   "metadata": {},
   "outputs": [],
   "source": [
    "# Build a model\n",
    "model = ExponentialSmoothing(endog=sr_exp_smoothing).fit()"
   ]
  },
  {
   "cell_type": "code",
   "execution_count": null,
   "metadata": {},
   "outputs": [],
   "source": [
    "# create prediction for 60 days\n",
    "predictions = model.forecast(60)"
   ]
  },
  {
   "cell_type": "code",
   "execution_count": null,
   "metadata": {},
   "outputs": [],
   "source": [
    "# set figure size\n",
    "sr_exp_smoothing.plot(figsize = (8, 6))\n",
    "# Plot predictions\n",
    "predictions.plot()"
   ]
  },
  {
   "cell_type": "code",
   "execution_count": null,
   "metadata": {},
   "outputs": [],
   "source": []
  }
 ],
 "metadata": {
  "kernelspec": {
   "display_name": "Techlabs",
   "language": "python",
   "name": "python3"
  },
  "language_info": {
   "codemirror_mode": {
    "name": "ipython",
    "version": 3
   },
   "file_extension": ".py",
   "mimetype": "text/x-python",
   "name": "python",
   "nbconvert_exporter": "python",
   "pygments_lexer": "ipython3",
   "version": "3.9.16"
  },
  "orig_nbformat": 4,
  "vscode": {
   "interpreter": {
    "hash": "41ac9e1861a44c3dba572e7e711f344eb493f0dc3ad8f854073c50171334b87a"
   }
  }
 },
 "nbformat": 4,
 "nbformat_minor": 2
}
