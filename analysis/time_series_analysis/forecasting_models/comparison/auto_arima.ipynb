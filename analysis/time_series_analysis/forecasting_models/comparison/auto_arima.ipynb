{
 "cells": [
  {
   "attachments": {},
   "cell_type": "markdown",
   "metadata": {},
   "source": [
    "## AutoARIMA\n",
    "\n",
    "- Univariate\n",
    "- The auto-ARIMA process seeks to identify the most optimal parameters for an ARIMA model, setting on a single fitted ARIMA model. Accept only univariate dataset.\n",
    "- AR(auto regression model) MA(moving average model) -> ARMA\n",
    "- ARIMA: Auto Regressive Integrated Moving Average"
   ]
  },
  {
   "cell_type": "code",
   "execution_count": 1,
   "metadata": {},
   "outputs": [],
   "source": [
    "from darts import TimeSeries\n",
    "from darts.models import StatsForecastAutoARIMA\n",
    "from darts.utils.statistics import plot_hist\n",
    "from darts.metrics import mape\n",
    "import pandas as pd\n",
    "import numpy as np\n",
    "from darts import concatenate\n",
    "from darts.utils.timeseries_generation import datetime_attribute_timeseries as dt_attr\n",
    "from darts.dataprocessing.transformers import Scaler\n"
   ]
  },
  {
   "cell_type": "code",
   "execution_count": 2,
   "metadata": {},
   "outputs": [],
   "source": [
    "df = pd.read_csv('../../../data/prepared/df_energy_climate_2020.csv')"
   ]
  },
  {
   "cell_type": "code",
   "execution_count": 3,
   "metadata": {},
   "outputs": [],
   "source": [
    "df['datetime'] = pd.to_datetime(df['datetime'])"
   ]
  },
  {
   "cell_type": "code",
   "execution_count": 8,
   "metadata": {},
   "outputs": [],
   "source": [
    "df['day_of_week'] = df['datetime'].dt.dayofweek"
   ]
  },
  {
   "cell_type": "code",
   "execution_count": null,
   "metadata": {},
   "outputs": [],
   "source": [
    "df = df.drop(['date', 'day_of_week', 'time', 'month'], axis=1)"
   ]
  },
  {
   "cell_type": "code",
   "execution_count": null,
   "metadata": {},
   "outputs": [],
   "source": [
    "# Create a TimeSeries, specifying the time and value columns\n",
    "series = TimeSeries.from_dataframe(\n",
    "    df, \n",
    "    time_col=\"datetime\", \n",
    "    value_cols='energy_price',\n",
    "    freq='H'\n",
    ")\n",
    "\n",
    "splitting_point = (int(len(series)*0.20))\n",
    "\n",
    "# Set aside the second half of series as a validation series\n",
    "train, val = series[:-splitting_point], series[-splitting_point:]\n",
    "# train, val = series.split_before(0.75)"
   ]
  },
  {
   "cell_type": "code",
   "execution_count": null,
   "metadata": {},
   "outputs": [],
   "source": [
    "model = StatsForecastAutoARIMA()"
   ]
  },
  {
   "cell_type": "code",
   "execution_count": null,
   "metadata": {},
   "outputs": [],
   "source": [
    "model.fit(train)\n",
    "\n",
    "forecast = model.predict(len(val))\n",
    "print(f'model {model} obtains MAPE: {mape(val, forecast):.2f}%')"
   ]
  },
  {
   "attachments": {},
   "cell_type": "markdown",
   "metadata": {},
   "source": [
    "## Historical forecasts\n",
    "Forecasting using historical data.\n",
    "\n",
    "*Backtesting: General method for seeing how well a model would have done using historical data."
   ]
  },
  {
   "cell_type": "code",
   "execution_count": null,
   "metadata": {},
   "outputs": [],
   "source": [
    "historical_fcast = model.historical_forecasts(\n",
    "    series,\n",
    "    start=0.80,\n",
    "    forecast_horizon=168,\n",
    "    stride=5,\n",
    "    overlap_end=False,\n",
    "    verbose=True\n",
    ")"
   ]
  },
  {
   "cell_type": "code",
   "execution_count": null,
   "metadata": {},
   "outputs": [],
   "source": [
    "series.plot(label='data')\n",
    "historical_fcast.plot(label='backtest 1 week ahead (AutoARIMA)')"
   ]
  },
  {
   "cell_type": "code",
   "execution_count": null,
   "metadata": {},
   "outputs": [],
   "source": [
    "print(f'MAPE = {mape(historical_fcast, series):.2f}%')"
   ]
  },
  {
   "attachments": {},
   "cell_type": "markdown",
   "metadata": {},
   "source": [
    "## Backtest\n",
    "It repeatedly builds a training set from the beginning of series. It trains the current model on the training set, emits a forecast of length equal to forecast_horizon, and then moves the end of the training set forward by stride time steps."
   ]
  },
  {
   "cell_type": "code",
   "execution_count": null,
   "metadata": {},
   "outputs": [],
   "source": [
    "raw_errors = model.backtest(\n",
    "    series,\n",
    "    start=0.80,\n",
    "    forecast_horizon=168,\n",
    "    stride=5,\n",
    "    reduction=None,\n",
    "    metric=mape,\n",
    "    verbose=True\n",
    ")"
   ]
  },
  {
   "cell_type": "code",
   "execution_count": null,
   "metadata": {},
   "outputs": [],
   "source": [
    "plot_hist(\n",
    "    raw_errors,\n",
    "    bins=np.arange(0, max(raw_errors), 1),\n",
    "    title='individual backtest error scores (histogram)'\n",
    ")"
   ]
  },
  {
   "cell_type": "code",
   "execution_count": null,
   "metadata": {},
   "outputs": [],
   "source": [
    "median_error = model.backtest(\n",
    "    series,\n",
    "    start=0.8,\n",
    "    forecast_horizon=168,\n",
    "    stride=5,\n",
    "    reduction=np.median,\n",
    "    metric=mape,\n",
    "    verbose=True\n",
    ")"
   ]
  },
  {
   "cell_type": "code",
   "execution_count": null,
   "metadata": {},
   "outputs": [],
   "source": [
    "print(f'Median error (MAPE) over all historical forecasts: {median_error:.2f}%')"
   ]
  },
  {
   "cell_type": "code",
   "execution_count": null,
   "metadata": {},
   "outputs": [],
   "source": [
    "average_error = model.backtest(\n",
    "    series,\n",
    "    start=0.8,\n",
    "    forecast_horizon=168,\n",
    "    stride=5,\n",
    "    reduction=np.mean,\n",
    "    metric=mape,\n",
    "    verbose=True\n",
    ")"
   ]
  },
  {
   "cell_type": "code",
   "execution_count": null,
   "metadata": {},
   "outputs": [],
   "source": [
    "print(f'Average error (MAPE) over all historical forecasts: {average_error:.2f}%')"
   ]
  }
 ],
 "metadata": {
  "kernelspec": {
   "display_name": "base",
   "language": "python",
   "name": "python3"
  },
  "language_info": {
   "codemirror_mode": {
    "name": "ipython",
    "version": 3
   },
   "file_extension": ".py",
   "mimetype": "text/x-python",
   "name": "python",
   "nbconvert_exporter": "python",
   "pygments_lexer": "ipython3",
   "version": "3.9.13"
  },
  "orig_nbformat": 4,
  "vscode": {
   "interpreter": {
    "hash": "1448b48b023bcc9c3d4a79e814720a10ca6d4244f75e0f7ce4af58f96ba2b7d3"
   }
  }
 },
 "nbformat": 4,
 "nbformat_minor": 2
}
