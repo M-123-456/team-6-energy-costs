{
 "cells": [
  {
   "cell_type": "code",
   "execution_count": 1,
   "metadata": {},
   "outputs": [],
   "source": [
    "# imports\n",
    "import numpy as np\n",
    "import pandas as pd\n",
    "from datetime import datetime\n",
    "import seaborn as sns\n",
    "from pylab import rcParams\n",
    "import matplotlib.pyplot as plt\n",
    "from statsmodels.graphics.tsaplots import plot_acf, plot_pacf\n"
   ]
  },
  {
   "attachments": {},
   "cell_type": "markdown",
   "metadata": {},
   "source": [
    "## Time series analysis"
   ]
  },
  {
   "cell_type": "code",
   "execution_count": 2,
   "metadata": {},
   "outputs": [],
   "source": [
    "df_energy_climate_2020 = pd.read_csv('../../data/prepared/df_energy_climate_2020.csv')"
   ]
  },
  {
   "cell_type": "code",
   "execution_count": 3,
   "metadata": {},
   "outputs": [
    {
     "data": {
      "text/plain": [
       "0    38.600000\n",
       "1    37.575000\n",
       "2    35.823333\n",
       "3    33.240000\n",
       "4    31.103333\n",
       "5    30.386667\n",
       "6    30.103333\n",
       "7    30.273333\n",
       "8    30.433333\n",
       "9    30.523333\n",
       "Name: energy_price_moving_avg, dtype: float64"
      ]
     },
     "execution_count": 3,
     "metadata": {},
     "output_type": "execute_result"
    }
   ],
   "source": [
    "# difference\n",
    "df_energy_climate_2020['energy_price_diff'] = df_energy_climate_2020['energy_price'].diff()\n",
    "\n",
    "# difference in percentage\n",
    "df_energy_climate_2020['energy_price_diff_pct'] = df_energy_climate_2020['energy_price'].pct_change()\n",
    "\n",
    "# moving average\n",
    "df_energy_climate_2020['energy_price_moving_avg'] = df_energy_climate_2020['energy_price'].rolling(3, min_periods=1).mean()\n",
    "\n",
    "\n",
    "df_energy_climate_2020['energy_price_moving_avg'].head(10)"
   ]
  },
  {
   "cell_type": "code",
   "execution_count": 4,
   "metadata": {},
   "outputs": [
    {
     "data": {
      "text/html": [
       "<div>\n",
       "<style scoped>\n",
       "    .dataframe tbody tr th:only-of-type {\n",
       "        vertical-align: middle;\n",
       "    }\n",
       "\n",
       "    .dataframe tbody tr th {\n",
       "        vertical-align: top;\n",
       "    }\n",
       "\n",
       "    .dataframe thead th {\n",
       "        text-align: right;\n",
       "    }\n",
       "</style>\n",
       "<table border=\"1\" class=\"dataframe\">\n",
       "  <thead>\n",
       "    <tr style=\"text-align: right;\">\n",
       "      <th></th>\n",
       "      <th>wind_speed</th>\n",
       "      <th>solar_radiation</th>\n",
       "      <th>nuclear_power</th>\n",
       "      <th>not_renewable</th>\n",
       "      <th>renewable</th>\n",
       "      <th>energy_price</th>\n",
       "      <th>energy_price_diff</th>\n",
       "      <th>energy_price_diff_pct</th>\n",
       "      <th>energy_price_moving_avg</th>\n",
       "      <th>energy_price_shift</th>\n",
       "    </tr>\n",
       "  </thead>\n",
       "  <tbody>\n",
       "    <tr>\n",
       "      <th>wind_speed</th>\n",
       "      <td>1.000000</td>\n",
       "      <td>0.096488</td>\n",
       "      <td>-0.050952</td>\n",
       "      <td>-0.379269</td>\n",
       "      <td>0.804260</td>\n",
       "      <td>-0.444114</td>\n",
       "      <td>0.057136</td>\n",
       "      <td>0.031028</td>\n",
       "      <td>-0.472748</td>\n",
       "      <td>-0.462998</td>\n",
       "    </tr>\n",
       "    <tr>\n",
       "      <th>solar_radiation</th>\n",
       "      <td>0.096488</td>\n",
       "      <td>1.000000</td>\n",
       "      <td>-0.254697</td>\n",
       "      <td>-0.186633</td>\n",
       "      <td>0.478710</td>\n",
       "      <td>-0.216114</td>\n",
       "      <td>-0.012361</td>\n",
       "      <td>-0.025255</td>\n",
       "      <td>-0.211590</td>\n",
       "      <td>-0.212017</td>\n",
       "    </tr>\n",
       "    <tr>\n",
       "      <th>nuclear_power</th>\n",
       "      <td>-0.050952</td>\n",
       "      <td>-0.254697</td>\n",
       "      <td>1.000000</td>\n",
       "      <td>0.407899</td>\n",
       "      <td>-0.135583</td>\n",
       "      <td>0.373059</td>\n",
       "      <td>0.008674</td>\n",
       "      <td>0.000301</td>\n",
       "      <td>0.378761</td>\n",
       "      <td>0.370190</td>\n",
       "    </tr>\n",
       "    <tr>\n",
       "      <th>not_renewable</th>\n",
       "      <td>-0.379269</td>\n",
       "      <td>-0.186633</td>\n",
       "      <td>0.407899</td>\n",
       "      <td>1.000000</td>\n",
       "      <td>-0.460238</td>\n",
       "      <td>0.797350</td>\n",
       "      <td>0.029841</td>\n",
       "      <td>-0.004245</td>\n",
       "      <td>0.804779</td>\n",
       "      <td>0.787579</td>\n",
       "    </tr>\n",
       "    <tr>\n",
       "      <th>renewable</th>\n",
       "      <td>0.804260</td>\n",
       "      <td>0.478710</td>\n",
       "      <td>-0.135583</td>\n",
       "      <td>-0.460238</td>\n",
       "      <td>1.000000</td>\n",
       "      <td>-0.513584</td>\n",
       "      <td>-0.060192</td>\n",
       "      <td>0.000382</td>\n",
       "      <td>-0.504660</td>\n",
       "      <td>-0.493715</td>\n",
       "    </tr>\n",
       "    <tr>\n",
       "      <th>energy_price</th>\n",
       "      <td>-0.444114</td>\n",
       "      <td>-0.216114</td>\n",
       "      <td>0.373059</td>\n",
       "      <td>0.797350</td>\n",
       "      <td>-0.513584</td>\n",
       "      <td>1.000000</td>\n",
       "      <td>0.165374</td>\n",
       "      <td>0.017544</td>\n",
       "      <td>0.960193</td>\n",
       "      <td>0.945429</td>\n",
       "    </tr>\n",
       "    <tr>\n",
       "      <th>energy_price_diff</th>\n",
       "      <td>0.057136</td>\n",
       "      <td>-0.012361</td>\n",
       "      <td>0.008674</td>\n",
       "      <td>0.029841</td>\n",
       "      <td>-0.060192</td>\n",
       "      <td>0.165374</td>\n",
       "      <td>1.000000</td>\n",
       "      <td>0.099069</td>\n",
       "      <td>-0.097464</td>\n",
       "      <td>-0.164991</td>\n",
       "    </tr>\n",
       "    <tr>\n",
       "      <th>energy_price_diff_pct</th>\n",
       "      <td>0.031028</td>\n",
       "      <td>-0.025255</td>\n",
       "      <td>0.000301</td>\n",
       "      <td>-0.004245</td>\n",
       "      <td>0.000382</td>\n",
       "      <td>0.017544</td>\n",
       "      <td>0.099069</td>\n",
       "      <td>1.000000</td>\n",
       "      <td>-0.008278</td>\n",
       "      <td>-0.015203</td>\n",
       "    </tr>\n",
       "    <tr>\n",
       "      <th>energy_price_moving_avg</th>\n",
       "      <td>-0.472748</td>\n",
       "      <td>-0.211590</td>\n",
       "      <td>0.378761</td>\n",
       "      <td>0.804779</td>\n",
       "      <td>-0.504660</td>\n",
       "      <td>0.960193</td>\n",
       "      <td>-0.097464</td>\n",
       "      <td>-0.008278</td>\n",
       "      <td>1.000000</td>\n",
       "      <td>0.992455</td>\n",
       "    </tr>\n",
       "    <tr>\n",
       "      <th>energy_price_shift</th>\n",
       "      <td>-0.462998</td>\n",
       "      <td>-0.212017</td>\n",
       "      <td>0.370190</td>\n",
       "      <td>0.787579</td>\n",
       "      <td>-0.493715</td>\n",
       "      <td>0.945429</td>\n",
       "      <td>-0.164991</td>\n",
       "      <td>-0.015203</td>\n",
       "      <td>0.992455</td>\n",
       "      <td>1.000000</td>\n",
       "    </tr>\n",
       "  </tbody>\n",
       "</table>\n",
       "</div>"
      ],
      "text/plain": [
       "                         wind_speed  solar_radiation  nuclear_power  \\\n",
       "wind_speed                 1.000000         0.096488      -0.050952   \n",
       "solar_radiation            0.096488         1.000000      -0.254697   \n",
       "nuclear_power             -0.050952        -0.254697       1.000000   \n",
       "not_renewable             -0.379269        -0.186633       0.407899   \n",
       "renewable                  0.804260         0.478710      -0.135583   \n",
       "energy_price              -0.444114        -0.216114       0.373059   \n",
       "energy_price_diff          0.057136        -0.012361       0.008674   \n",
       "energy_price_diff_pct      0.031028        -0.025255       0.000301   \n",
       "energy_price_moving_avg   -0.472748        -0.211590       0.378761   \n",
       "energy_price_shift        -0.462998        -0.212017       0.370190   \n",
       "\n",
       "                         not_renewable  renewable  energy_price  \\\n",
       "wind_speed                   -0.379269   0.804260     -0.444114   \n",
       "solar_radiation              -0.186633   0.478710     -0.216114   \n",
       "nuclear_power                 0.407899  -0.135583      0.373059   \n",
       "not_renewable                 1.000000  -0.460238      0.797350   \n",
       "renewable                    -0.460238   1.000000     -0.513584   \n",
       "energy_price                  0.797350  -0.513584      1.000000   \n",
       "energy_price_diff             0.029841  -0.060192      0.165374   \n",
       "energy_price_diff_pct        -0.004245   0.000382      0.017544   \n",
       "energy_price_moving_avg       0.804779  -0.504660      0.960193   \n",
       "energy_price_shift            0.787579  -0.493715      0.945429   \n",
       "\n",
       "                         energy_price_diff  energy_price_diff_pct  \\\n",
       "wind_speed                        0.057136               0.031028   \n",
       "solar_radiation                  -0.012361              -0.025255   \n",
       "nuclear_power                     0.008674               0.000301   \n",
       "not_renewable                     0.029841              -0.004245   \n",
       "renewable                        -0.060192               0.000382   \n",
       "energy_price                      0.165374               0.017544   \n",
       "energy_price_diff                 1.000000               0.099069   \n",
       "energy_price_diff_pct             0.099069               1.000000   \n",
       "energy_price_moving_avg          -0.097464              -0.008278   \n",
       "energy_price_shift               -0.164991              -0.015203   \n",
       "\n",
       "                         energy_price_moving_avg  energy_price_shift  \n",
       "wind_speed                             -0.472748           -0.462998  \n",
       "solar_radiation                        -0.211590           -0.212017  \n",
       "nuclear_power                           0.378761            0.370190  \n",
       "not_renewable                           0.804779            0.787579  \n",
       "renewable                              -0.504660           -0.493715  \n",
       "energy_price                            0.960193            0.945429  \n",
       "energy_price_diff                      -0.097464           -0.164991  \n",
       "energy_price_diff_pct                  -0.008278           -0.015203  \n",
       "energy_price_moving_avg                 1.000000            0.992455  \n",
       "energy_price_shift                      0.992455            1.000000  "
      ]
     },
     "execution_count": 4,
     "metadata": {},
     "output_type": "execute_result"
    }
   ],
   "source": [
    "# check correlation with energy_price shifted one day later\n",
    "df_energy_climate_2020['energy_price_shift'] = df_energy_climate_2020['energy_price'].shift()\n",
    "\n",
    "df_energy_climate_2020.corr(numeric_only=True)"
   ]
  },
  {
   "attachments": {},
   "cell_type": "markdown",
   "metadata": {},
   "source": [
    "## Autocorrelation"
   ]
  },
  {
   "cell_type": "code",
   "execution_count": 5,
   "metadata": {},
   "outputs": [],
   "source": [
    "import statsmodels.api as sm"
   ]
  },
  {
   "cell_type": "code",
   "execution_count": 6,
   "metadata": {},
   "outputs": [
    {
     "ename": "FileNotFoundError",
     "evalue": "[Errno 2] No such file or directory: '../../data/prepared/df_energy_2019_to_2020_by_day'",
     "output_type": "error",
     "traceback": [
      "\u001b[0;31m---------------------------------------------------------------------------\u001b[0m",
      "\u001b[0;31mFileNotFoundError\u001b[0m                         Traceback (most recent call last)",
      "Cell \u001b[0;32mIn[6], line 1\u001b[0m\n\u001b[0;32m----> 1\u001b[0m df_energy_2019_to_2020_by_day \u001b[39m=\u001b[39m pd\u001b[39m.\u001b[39;49mread_csv(\u001b[39m'\u001b[39;49m\u001b[39m../../data/prepared/df_energy_2019_to_2020_by_day\u001b[39;49m\u001b[39m'\u001b[39;49m)\n",
      "File \u001b[0;32m~/opt/anaconda3/envs/Techlabs/lib/python3.9/site-packages/pandas/util/_decorators.py:211\u001b[0m, in \u001b[0;36mdeprecate_kwarg.<locals>._deprecate_kwarg.<locals>.wrapper\u001b[0;34m(*args, **kwargs)\u001b[0m\n\u001b[1;32m    209\u001b[0m     \u001b[39melse\u001b[39;00m:\n\u001b[1;32m    210\u001b[0m         kwargs[new_arg_name] \u001b[39m=\u001b[39m new_arg_value\n\u001b[0;32m--> 211\u001b[0m \u001b[39mreturn\u001b[39;00m func(\u001b[39m*\u001b[39;49margs, \u001b[39m*\u001b[39;49m\u001b[39m*\u001b[39;49mkwargs)\n",
      "File \u001b[0;32m~/opt/anaconda3/envs/Techlabs/lib/python3.9/site-packages/pandas/util/_decorators.py:331\u001b[0m, in \u001b[0;36mdeprecate_nonkeyword_arguments.<locals>.decorate.<locals>.wrapper\u001b[0;34m(*args, **kwargs)\u001b[0m\n\u001b[1;32m    325\u001b[0m \u001b[39mif\u001b[39;00m \u001b[39mlen\u001b[39m(args) \u001b[39m>\u001b[39m num_allow_args:\n\u001b[1;32m    326\u001b[0m     warnings\u001b[39m.\u001b[39mwarn(\n\u001b[1;32m    327\u001b[0m         msg\u001b[39m.\u001b[39mformat(arguments\u001b[39m=\u001b[39m_format_argument_list(allow_args)),\n\u001b[1;32m    328\u001b[0m         \u001b[39mFutureWarning\u001b[39;00m,\n\u001b[1;32m    329\u001b[0m         stacklevel\u001b[39m=\u001b[39mfind_stack_level(),\n\u001b[1;32m    330\u001b[0m     )\n\u001b[0;32m--> 331\u001b[0m \u001b[39mreturn\u001b[39;00m func(\u001b[39m*\u001b[39;49margs, \u001b[39m*\u001b[39;49m\u001b[39m*\u001b[39;49mkwargs)\n",
      "File \u001b[0;32m~/opt/anaconda3/envs/Techlabs/lib/python3.9/site-packages/pandas/io/parsers/readers.py:950\u001b[0m, in \u001b[0;36mread_csv\u001b[0;34m(filepath_or_buffer, sep, delimiter, header, names, index_col, usecols, squeeze, prefix, mangle_dupe_cols, dtype, engine, converters, true_values, false_values, skipinitialspace, skiprows, skipfooter, nrows, na_values, keep_default_na, na_filter, verbose, skip_blank_lines, parse_dates, infer_datetime_format, keep_date_col, date_parser, dayfirst, cache_dates, iterator, chunksize, compression, thousands, decimal, lineterminator, quotechar, quoting, doublequote, escapechar, comment, encoding, encoding_errors, dialect, error_bad_lines, warn_bad_lines, on_bad_lines, delim_whitespace, low_memory, memory_map, float_precision, storage_options)\u001b[0m\n\u001b[1;32m    935\u001b[0m kwds_defaults \u001b[39m=\u001b[39m _refine_defaults_read(\n\u001b[1;32m    936\u001b[0m     dialect,\n\u001b[1;32m    937\u001b[0m     delimiter,\n\u001b[0;32m   (...)\u001b[0m\n\u001b[1;32m    946\u001b[0m     defaults\u001b[39m=\u001b[39m{\u001b[39m\"\u001b[39m\u001b[39mdelimiter\u001b[39m\u001b[39m\"\u001b[39m: \u001b[39m\"\u001b[39m\u001b[39m,\u001b[39m\u001b[39m\"\u001b[39m},\n\u001b[1;32m    947\u001b[0m )\n\u001b[1;32m    948\u001b[0m kwds\u001b[39m.\u001b[39mupdate(kwds_defaults)\n\u001b[0;32m--> 950\u001b[0m \u001b[39mreturn\u001b[39;00m _read(filepath_or_buffer, kwds)\n",
      "File \u001b[0;32m~/opt/anaconda3/envs/Techlabs/lib/python3.9/site-packages/pandas/io/parsers/readers.py:605\u001b[0m, in \u001b[0;36m_read\u001b[0;34m(filepath_or_buffer, kwds)\u001b[0m\n\u001b[1;32m    602\u001b[0m _validate_names(kwds\u001b[39m.\u001b[39mget(\u001b[39m\"\u001b[39m\u001b[39mnames\u001b[39m\u001b[39m\"\u001b[39m, \u001b[39mNone\u001b[39;00m))\n\u001b[1;32m    604\u001b[0m \u001b[39m# Create the parser.\u001b[39;00m\n\u001b[0;32m--> 605\u001b[0m parser \u001b[39m=\u001b[39m TextFileReader(filepath_or_buffer, \u001b[39m*\u001b[39;49m\u001b[39m*\u001b[39;49mkwds)\n\u001b[1;32m    607\u001b[0m \u001b[39mif\u001b[39;00m chunksize \u001b[39mor\u001b[39;00m iterator:\n\u001b[1;32m    608\u001b[0m     \u001b[39mreturn\u001b[39;00m parser\n",
      "File \u001b[0;32m~/opt/anaconda3/envs/Techlabs/lib/python3.9/site-packages/pandas/io/parsers/readers.py:1442\u001b[0m, in \u001b[0;36mTextFileReader.__init__\u001b[0;34m(self, f, engine, **kwds)\u001b[0m\n\u001b[1;32m   1439\u001b[0m     \u001b[39mself\u001b[39m\u001b[39m.\u001b[39moptions[\u001b[39m\"\u001b[39m\u001b[39mhas_index_names\u001b[39m\u001b[39m\"\u001b[39m] \u001b[39m=\u001b[39m kwds[\u001b[39m\"\u001b[39m\u001b[39mhas_index_names\u001b[39m\u001b[39m\"\u001b[39m]\n\u001b[1;32m   1441\u001b[0m \u001b[39mself\u001b[39m\u001b[39m.\u001b[39mhandles: IOHandles \u001b[39m|\u001b[39m \u001b[39mNone\u001b[39;00m \u001b[39m=\u001b[39m \u001b[39mNone\u001b[39;00m\n\u001b[0;32m-> 1442\u001b[0m \u001b[39mself\u001b[39m\u001b[39m.\u001b[39m_engine \u001b[39m=\u001b[39m \u001b[39mself\u001b[39;49m\u001b[39m.\u001b[39;49m_make_engine(f, \u001b[39mself\u001b[39;49m\u001b[39m.\u001b[39;49mengine)\n",
      "File \u001b[0;32m~/opt/anaconda3/envs/Techlabs/lib/python3.9/site-packages/pandas/io/parsers/readers.py:1735\u001b[0m, in \u001b[0;36mTextFileReader._make_engine\u001b[0;34m(self, f, engine)\u001b[0m\n\u001b[1;32m   1733\u001b[0m     \u001b[39mif\u001b[39;00m \u001b[39m\"\u001b[39m\u001b[39mb\u001b[39m\u001b[39m\"\u001b[39m \u001b[39mnot\u001b[39;00m \u001b[39min\u001b[39;00m mode:\n\u001b[1;32m   1734\u001b[0m         mode \u001b[39m+\u001b[39m\u001b[39m=\u001b[39m \u001b[39m\"\u001b[39m\u001b[39mb\u001b[39m\u001b[39m\"\u001b[39m\n\u001b[0;32m-> 1735\u001b[0m \u001b[39mself\u001b[39m\u001b[39m.\u001b[39mhandles \u001b[39m=\u001b[39m get_handle(\n\u001b[1;32m   1736\u001b[0m     f,\n\u001b[1;32m   1737\u001b[0m     mode,\n\u001b[1;32m   1738\u001b[0m     encoding\u001b[39m=\u001b[39;49m\u001b[39mself\u001b[39;49m\u001b[39m.\u001b[39;49moptions\u001b[39m.\u001b[39;49mget(\u001b[39m\"\u001b[39;49m\u001b[39mencoding\u001b[39;49m\u001b[39m\"\u001b[39;49m, \u001b[39mNone\u001b[39;49;00m),\n\u001b[1;32m   1739\u001b[0m     compression\u001b[39m=\u001b[39;49m\u001b[39mself\u001b[39;49m\u001b[39m.\u001b[39;49moptions\u001b[39m.\u001b[39;49mget(\u001b[39m\"\u001b[39;49m\u001b[39mcompression\u001b[39;49m\u001b[39m\"\u001b[39;49m, \u001b[39mNone\u001b[39;49;00m),\n\u001b[1;32m   1740\u001b[0m     memory_map\u001b[39m=\u001b[39;49m\u001b[39mself\u001b[39;49m\u001b[39m.\u001b[39;49moptions\u001b[39m.\u001b[39;49mget(\u001b[39m\"\u001b[39;49m\u001b[39mmemory_map\u001b[39;49m\u001b[39m\"\u001b[39;49m, \u001b[39mFalse\u001b[39;49;00m),\n\u001b[1;32m   1741\u001b[0m     is_text\u001b[39m=\u001b[39;49mis_text,\n\u001b[1;32m   1742\u001b[0m     errors\u001b[39m=\u001b[39;49m\u001b[39mself\u001b[39;49m\u001b[39m.\u001b[39;49moptions\u001b[39m.\u001b[39;49mget(\u001b[39m\"\u001b[39;49m\u001b[39mencoding_errors\u001b[39;49m\u001b[39m\"\u001b[39;49m, \u001b[39m\"\u001b[39;49m\u001b[39mstrict\u001b[39;49m\u001b[39m\"\u001b[39;49m),\n\u001b[1;32m   1743\u001b[0m     storage_options\u001b[39m=\u001b[39;49m\u001b[39mself\u001b[39;49m\u001b[39m.\u001b[39;49moptions\u001b[39m.\u001b[39;49mget(\u001b[39m\"\u001b[39;49m\u001b[39mstorage_options\u001b[39;49m\u001b[39m\"\u001b[39;49m, \u001b[39mNone\u001b[39;49;00m),\n\u001b[1;32m   1744\u001b[0m )\n\u001b[1;32m   1745\u001b[0m \u001b[39massert\u001b[39;00m \u001b[39mself\u001b[39m\u001b[39m.\u001b[39mhandles \u001b[39mis\u001b[39;00m \u001b[39mnot\u001b[39;00m \u001b[39mNone\u001b[39;00m\n\u001b[1;32m   1746\u001b[0m f \u001b[39m=\u001b[39m \u001b[39mself\u001b[39m\u001b[39m.\u001b[39mhandles\u001b[39m.\u001b[39mhandle\n",
      "File \u001b[0;32m~/opt/anaconda3/envs/Techlabs/lib/python3.9/site-packages/pandas/io/common.py:856\u001b[0m, in \u001b[0;36mget_handle\u001b[0;34m(path_or_buf, mode, encoding, compression, memory_map, is_text, errors, storage_options)\u001b[0m\n\u001b[1;32m    851\u001b[0m \u001b[39melif\u001b[39;00m \u001b[39misinstance\u001b[39m(handle, \u001b[39mstr\u001b[39m):\n\u001b[1;32m    852\u001b[0m     \u001b[39m# Check whether the filename is to be opened in binary mode.\u001b[39;00m\n\u001b[1;32m    853\u001b[0m     \u001b[39m# Binary mode does not support 'encoding' and 'newline'.\u001b[39;00m\n\u001b[1;32m    854\u001b[0m     \u001b[39mif\u001b[39;00m ioargs\u001b[39m.\u001b[39mencoding \u001b[39mand\u001b[39;00m \u001b[39m\"\u001b[39m\u001b[39mb\u001b[39m\u001b[39m\"\u001b[39m \u001b[39mnot\u001b[39;00m \u001b[39min\u001b[39;00m ioargs\u001b[39m.\u001b[39mmode:\n\u001b[1;32m    855\u001b[0m         \u001b[39m# Encoding\u001b[39;00m\n\u001b[0;32m--> 856\u001b[0m         handle \u001b[39m=\u001b[39m \u001b[39mopen\u001b[39;49m(\n\u001b[1;32m    857\u001b[0m             handle,\n\u001b[1;32m    858\u001b[0m             ioargs\u001b[39m.\u001b[39;49mmode,\n\u001b[1;32m    859\u001b[0m             encoding\u001b[39m=\u001b[39;49mioargs\u001b[39m.\u001b[39;49mencoding,\n\u001b[1;32m    860\u001b[0m             errors\u001b[39m=\u001b[39;49merrors,\n\u001b[1;32m    861\u001b[0m             newline\u001b[39m=\u001b[39;49m\u001b[39m\"\u001b[39;49m\u001b[39m\"\u001b[39;49m,\n\u001b[1;32m    862\u001b[0m         )\n\u001b[1;32m    863\u001b[0m     \u001b[39melse\u001b[39;00m:\n\u001b[1;32m    864\u001b[0m         \u001b[39m# Binary mode\u001b[39;00m\n\u001b[1;32m    865\u001b[0m         handle \u001b[39m=\u001b[39m \u001b[39mopen\u001b[39m(handle, ioargs\u001b[39m.\u001b[39mmode)\n",
      "\u001b[0;31mFileNotFoundError\u001b[0m: [Errno 2] No such file or directory: '../../data/prepared/df_energy_2019_to_2020_by_day'"
     ]
    }
   ],
   "source": [
    "df_energy_2019_to_2020_by_day = pd.read_csv('../../data/prepared/df_energy_2019_to_2020_by_day')\n"
   ]
  },
  {
   "cell_type": "code",
   "execution_count": null,
   "metadata": {},
   "outputs": [],
   "source": [
    "plt.rcParams['figure.figsize'] = (12, 8)"
   ]
  },
  {
   "cell_type": "code",
   "execution_count": null,
   "metadata": {},
   "outputs": [],
   "source": [
    "acf = plot_acf(df_energy_2019_to_2020_by_day['energy_price'], lags=60)\n",
    "pacf = plot_pacf(df_energy_2019_to_2020_by_day['energy_price'], lags=60)"
   ]
  },
  {
   "cell_type": "code",
   "execution_count": null,
   "metadata": {},
   "outputs": [],
   "source": [
    "acf = sm.tsa.acf(df_energy_2019_to_2020_by_day['energy_price'], nlags = 60)\n",
    "pacf = sm.tsa.pacf(df_energy_2019_to_2020_by_day['energy_price'], nlags = 60)\n",
    "print('acf: ', acf, 'pacf: ', pacf)"
   ]
  },
  {
   "attachments": {},
   "cell_type": "markdown",
   "metadata": {},
   "source": [
    "Partial autocorrelation\n",
    "- significant correlation with lag 1 => Autoregression of order 1\n",
    "- negative correlation with lag 9\n",
    "- no correlation from 60 lags\n",
    "- no seasonality"
   ]
  }
 ],
 "metadata": {
  "kernelspec": {
   "display_name": "Techlabs",
   "language": "python",
   "name": "python3"
  },
  "language_info": {
   "codemirror_mode": {
    "name": "ipython",
    "version": 3
   },
   "file_extension": ".py",
   "mimetype": "text/x-python",
   "name": "python",
   "nbconvert_exporter": "python",
   "pygments_lexer": "ipython3",
   "version": "3.9.16"
  },
  "orig_nbformat": 4,
  "vscode": {
   "interpreter": {
    "hash": "41ac9e1861a44c3dba572e7e711f344eb493f0dc3ad8f854073c50171334b87a"
   }
  }
 },
 "nbformat": 4,
 "nbformat_minor": 2
}
