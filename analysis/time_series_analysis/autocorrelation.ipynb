{
 "cells": [
  {
   "cell_type": "code",
   "execution_count": 1,
   "metadata": {},
   "outputs": [],
   "source": [
    "# imports\n",
    "import numpy as np\n",
    "import pandas as pd\n",
    "from datetime import datetime\n",
    "import seaborn as sns\n",
    "from pylab import rcParams\n",
    "import matplotlib.pyplot as plt\n",
    "from statsmodels.graphics.tsaplots import plot_acf, plot_pacf\n"
   ]
  },
  {
   "attachments": {},
   "cell_type": "markdown",
   "metadata": {},
   "source": [
    "## Time series analysis"
   ]
  },
  {
   "cell_type": "code",
   "execution_count": 2,
   "metadata": {},
   "outputs": [],
   "source": [
    "df_energy_climate_2020 = pd.read_csv('../../data/prepared/df_energy_climate_2020.csv')"
   ]
  },
  {
   "cell_type": "code",
   "execution_count": 3,
   "metadata": {},
   "outputs": [
    {
     "data": {
      "text/plain": [
       "0    38.600000\n",
       "1    37.575000\n",
       "2    35.823333\n",
       "3    33.240000\n",
       "4    31.103333\n",
       "5    30.386667\n",
       "6    30.103333\n",
       "7    30.273333\n",
       "8    30.433333\n",
       "9    30.523333\n",
       "Name: energy_price_moving_avg, dtype: float64"
      ]
     },
     "execution_count": 3,
     "metadata": {},
     "output_type": "execute_result"
    }
   ],
   "source": [
    "# difference\n",
    "df_energy_climate_2020['energy_price_diff'] = df_energy_climate_2020['energy_price'].diff()\n",
    "\n",
    "# difference in percentage\n",
    "df_energy_climate_2020['energy_price_diff_pct'] = df_energy_climate_2020['energy_price'].pct_change()\n",
    "\n",
    "# moving average\n",
    "df_energy_climate_2020['energy_price_moving_avg'] = df_energy_climate_2020['energy_price'].rolling(3, min_periods=1).mean()\n",
    "\n",
    "\n",
    "df_energy_climate_2020['energy_price_moving_avg'].head(10)"
   ]
  },
  {
   "cell_type": "code",
   "execution_count": 4,
   "metadata": {},
   "outputs": [
    {
     "data": {
      "text/html": [
       "<div>\n",
       "<style scoped>\n",
       "    .dataframe tbody tr th:only-of-type {\n",
       "        vertical-align: middle;\n",
       "    }\n",
       "\n",
       "    .dataframe tbody tr th {\n",
       "        vertical-align: top;\n",
       "    }\n",
       "\n",
       "    .dataframe thead th {\n",
       "        text-align: right;\n",
       "    }\n",
       "</style>\n",
       "<table border=\"1\" class=\"dataframe\">\n",
       "  <thead>\n",
       "    <tr style=\"text-align: right;\">\n",
       "      <th></th>\n",
       "      <th>wind_speed</th>\n",
       "      <th>solar_radiation</th>\n",
       "      <th>tempreture</th>\n",
       "      <th>nuclear_power</th>\n",
       "      <th>not_renewable</th>\n",
       "      <th>renewable</th>\n",
       "      <th>energy_price</th>\n",
       "      <th>energy_price_diff</th>\n",
       "      <th>energy_price_diff_pct</th>\n",
       "      <th>energy_price_moving_avg</th>\n",
       "      <th>energy_price_shift</th>\n",
       "    </tr>\n",
       "  </thead>\n",
       "  <tbody>\n",
       "    <tr>\n",
       "      <th>wind_speed</th>\n",
       "      <td>1.000000</td>\n",
       "      <td>0.096488</td>\n",
       "      <td>-0.109658</td>\n",
       "      <td>-0.050952</td>\n",
       "      <td>-0.379269</td>\n",
       "      <td>0.804260</td>\n",
       "      <td>-0.444114</td>\n",
       "      <td>0.057136</td>\n",
       "      <td>0.031028</td>\n",
       "      <td>-0.472748</td>\n",
       "      <td>-0.462998</td>\n",
       "    </tr>\n",
       "    <tr>\n",
       "      <th>solar_radiation</th>\n",
       "      <td>0.096488</td>\n",
       "      <td>1.000000</td>\n",
       "      <td>0.548614</td>\n",
       "      <td>-0.254697</td>\n",
       "      <td>-0.186633</td>\n",
       "      <td>0.478710</td>\n",
       "      <td>-0.216114</td>\n",
       "      <td>-0.012361</td>\n",
       "      <td>-0.025255</td>\n",
       "      <td>-0.211590</td>\n",
       "      <td>-0.212017</td>\n",
       "    </tr>\n",
       "    <tr>\n",
       "      <th>tempreture</th>\n",
       "      <td>-0.109658</td>\n",
       "      <td>0.548614</td>\n",
       "      <td>1.000000</td>\n",
       "      <td>-0.319468</td>\n",
       "      <td>-0.243570</td>\n",
       "      <td>0.076419</td>\n",
       "      <td>-0.065411</td>\n",
       "      <td>0.034561</td>\n",
       "      <td>-0.016080</td>\n",
       "      <td>-0.077886</td>\n",
       "      <td>-0.076763</td>\n",
       "    </tr>\n",
       "    <tr>\n",
       "      <th>nuclear_power</th>\n",
       "      <td>-0.050952</td>\n",
       "      <td>-0.254697</td>\n",
       "      <td>-0.319468</td>\n",
       "      <td>1.000000</td>\n",
       "      <td>0.407899</td>\n",
       "      <td>-0.135583</td>\n",
       "      <td>0.373059</td>\n",
       "      <td>0.008674</td>\n",
       "      <td>0.000301</td>\n",
       "      <td>0.378761</td>\n",
       "      <td>0.370190</td>\n",
       "    </tr>\n",
       "    <tr>\n",
       "      <th>not_renewable</th>\n",
       "      <td>-0.379269</td>\n",
       "      <td>-0.186633</td>\n",
       "      <td>-0.243570</td>\n",
       "      <td>0.407899</td>\n",
       "      <td>1.000000</td>\n",
       "      <td>-0.460238</td>\n",
       "      <td>0.797350</td>\n",
       "      <td>0.029841</td>\n",
       "      <td>-0.004245</td>\n",
       "      <td>0.804779</td>\n",
       "      <td>0.787579</td>\n",
       "    </tr>\n",
       "    <tr>\n",
       "      <th>renewable</th>\n",
       "      <td>0.804260</td>\n",
       "      <td>0.478710</td>\n",
       "      <td>0.076419</td>\n",
       "      <td>-0.135583</td>\n",
       "      <td>-0.460238</td>\n",
       "      <td>1.000000</td>\n",
       "      <td>-0.513584</td>\n",
       "      <td>-0.060192</td>\n",
       "      <td>0.000382</td>\n",
       "      <td>-0.504660</td>\n",
       "      <td>-0.493715</td>\n",
       "    </tr>\n",
       "    <tr>\n",
       "      <th>energy_price</th>\n",
       "      <td>-0.444114</td>\n",
       "      <td>-0.216114</td>\n",
       "      <td>-0.065411</td>\n",
       "      <td>0.373059</td>\n",
       "      <td>0.797350</td>\n",
       "      <td>-0.513584</td>\n",
       "      <td>1.000000</td>\n",
       "      <td>0.165374</td>\n",
       "      <td>0.017544</td>\n",
       "      <td>0.960193</td>\n",
       "      <td>0.945429</td>\n",
       "    </tr>\n",
       "    <tr>\n",
       "      <th>energy_price_diff</th>\n",
       "      <td>0.057136</td>\n",
       "      <td>-0.012361</td>\n",
       "      <td>0.034561</td>\n",
       "      <td>0.008674</td>\n",
       "      <td>0.029841</td>\n",
       "      <td>-0.060192</td>\n",
       "      <td>0.165374</td>\n",
       "      <td>1.000000</td>\n",
       "      <td>0.099069</td>\n",
       "      <td>-0.097464</td>\n",
       "      <td>-0.164991</td>\n",
       "    </tr>\n",
       "    <tr>\n",
       "      <th>energy_price_diff_pct</th>\n",
       "      <td>0.031028</td>\n",
       "      <td>-0.025255</td>\n",
       "      <td>-0.016080</td>\n",
       "      <td>0.000301</td>\n",
       "      <td>-0.004245</td>\n",
       "      <td>0.000382</td>\n",
       "      <td>0.017544</td>\n",
       "      <td>0.099069</td>\n",
       "      <td>1.000000</td>\n",
       "      <td>-0.008278</td>\n",
       "      <td>-0.015203</td>\n",
       "    </tr>\n",
       "    <tr>\n",
       "      <th>energy_price_moving_avg</th>\n",
       "      <td>-0.472748</td>\n",
       "      <td>-0.211590</td>\n",
       "      <td>-0.077886</td>\n",
       "      <td>0.378761</td>\n",
       "      <td>0.804779</td>\n",
       "      <td>-0.504660</td>\n",
       "      <td>0.960193</td>\n",
       "      <td>-0.097464</td>\n",
       "      <td>-0.008278</td>\n",
       "      <td>1.000000</td>\n",
       "      <td>0.992455</td>\n",
       "    </tr>\n",
       "    <tr>\n",
       "      <th>energy_price_shift</th>\n",
       "      <td>-0.462998</td>\n",
       "      <td>-0.212017</td>\n",
       "      <td>-0.076763</td>\n",
       "      <td>0.370190</td>\n",
       "      <td>0.787579</td>\n",
       "      <td>-0.493715</td>\n",
       "      <td>0.945429</td>\n",
       "      <td>-0.164991</td>\n",
       "      <td>-0.015203</td>\n",
       "      <td>0.992455</td>\n",
       "      <td>1.000000</td>\n",
       "    </tr>\n",
       "  </tbody>\n",
       "</table>\n",
       "</div>"
      ],
      "text/plain": [
       "                         wind_speed  solar_radiation  tempreture  \\\n",
       "wind_speed                 1.000000         0.096488   -0.109658   \n",
       "solar_radiation            0.096488         1.000000    0.548614   \n",
       "tempreture                -0.109658         0.548614    1.000000   \n",
       "nuclear_power             -0.050952        -0.254697   -0.319468   \n",
       "not_renewable             -0.379269        -0.186633   -0.243570   \n",
       "renewable                  0.804260         0.478710    0.076419   \n",
       "energy_price              -0.444114        -0.216114   -0.065411   \n",
       "energy_price_diff          0.057136        -0.012361    0.034561   \n",
       "energy_price_diff_pct      0.031028        -0.025255   -0.016080   \n",
       "energy_price_moving_avg   -0.472748        -0.211590   -0.077886   \n",
       "energy_price_shift        -0.462998        -0.212017   -0.076763   \n",
       "\n",
       "                         nuclear_power  not_renewable  renewable  \\\n",
       "wind_speed                   -0.050952      -0.379269   0.804260   \n",
       "solar_radiation              -0.254697      -0.186633   0.478710   \n",
       "tempreture                   -0.319468      -0.243570   0.076419   \n",
       "nuclear_power                 1.000000       0.407899  -0.135583   \n",
       "not_renewable                 0.407899       1.000000  -0.460238   \n",
       "renewable                    -0.135583      -0.460238   1.000000   \n",
       "energy_price                  0.373059       0.797350  -0.513584   \n",
       "energy_price_diff             0.008674       0.029841  -0.060192   \n",
       "energy_price_diff_pct         0.000301      -0.004245   0.000382   \n",
       "energy_price_moving_avg       0.378761       0.804779  -0.504660   \n",
       "energy_price_shift            0.370190       0.787579  -0.493715   \n",
       "\n",
       "                         energy_price  energy_price_diff  \\\n",
       "wind_speed                  -0.444114           0.057136   \n",
       "solar_radiation             -0.216114          -0.012361   \n",
       "tempreture                  -0.065411           0.034561   \n",
       "nuclear_power                0.373059           0.008674   \n",
       "not_renewable                0.797350           0.029841   \n",
       "renewable                   -0.513584          -0.060192   \n",
       "energy_price                 1.000000           0.165374   \n",
       "energy_price_diff            0.165374           1.000000   \n",
       "energy_price_diff_pct        0.017544           0.099069   \n",
       "energy_price_moving_avg      0.960193          -0.097464   \n",
       "energy_price_shift           0.945429          -0.164991   \n",
       "\n",
       "                         energy_price_diff_pct  energy_price_moving_avg  \\\n",
       "wind_speed                            0.031028                -0.472748   \n",
       "solar_radiation                      -0.025255                -0.211590   \n",
       "tempreture                           -0.016080                -0.077886   \n",
       "nuclear_power                         0.000301                 0.378761   \n",
       "not_renewable                        -0.004245                 0.804779   \n",
       "renewable                             0.000382                -0.504660   \n",
       "energy_price                          0.017544                 0.960193   \n",
       "energy_price_diff                     0.099069                -0.097464   \n",
       "energy_price_diff_pct                 1.000000                -0.008278   \n",
       "energy_price_moving_avg              -0.008278                 1.000000   \n",
       "energy_price_shift                   -0.015203                 0.992455   \n",
       "\n",
       "                         energy_price_shift  \n",
       "wind_speed                        -0.462998  \n",
       "solar_radiation                   -0.212017  \n",
       "tempreture                        -0.076763  \n",
       "nuclear_power                      0.370190  \n",
       "not_renewable                      0.787579  \n",
       "renewable                         -0.493715  \n",
       "energy_price                       0.945429  \n",
       "energy_price_diff                 -0.164991  \n",
       "energy_price_diff_pct             -0.015203  \n",
       "energy_price_moving_avg            0.992455  \n",
       "energy_price_shift                 1.000000  "
      ]
     },
     "execution_count": 4,
     "metadata": {},
     "output_type": "execute_result"
    }
   ],
   "source": [
    "# check correlation with energy_price shifted one day later\n",
    "df_energy_climate_2020['energy_price_shift'] = df_energy_climate_2020['energy_price'].shift()\n",
    "\n",
    "df_energy_climate_2020.corr(numeric_only=True)"
   ]
  },
  {
   "attachments": {},
   "cell_type": "markdown",
   "metadata": {},
   "source": [
    "## Autocorrelation"
   ]
  },
  {
   "cell_type": "code",
   "execution_count": 5,
   "metadata": {},
   "outputs": [],
   "source": [
    "import statsmodels.api as sm"
   ]
  },
  {
   "cell_type": "code",
   "execution_count": 6,
   "metadata": {},
   "outputs": [],
   "source": [
    "df_energy_2019_to_2020_by_day = pd.read_csv('../../data/prepared/df_energy_2019_to_2020_by_day.csv')\n"
   ]
  },
  {
   "cell_type": "code",
   "execution_count": 7,
   "metadata": {},
   "outputs": [],
   "source": [
    "plt.rcParams['figure.figsize'] = (12, 8)"
   ]
  },
  {
   "cell_type": "code",
   "execution_count": 8,
   "metadata": {},
   "outputs": [
    {
     "name": "stderr",
     "output_type": "stream",
     "text": [
      "/Users/mikigerlach/opt/anaconda3/envs/Techlabs/lib/python3.9/site-packages/statsmodels/graphics/tsaplots.py:348: FutureWarning: The default method 'yw' can produce PACF values outside of the [-1,1] interval. After 0.13, the default will change tounadjusted Yule-Walker ('ywm'). You can use this method now by setting method='ywm'.\n",
      "  warnings.warn(\n"
     ]
    },
    {
     "data": {
      "image/png": "[encoded data removed]",
      "text/plain": [
       "<Figure size 1200x800 with 1 Axes>"
      ]
     },
     "metadata": {},
     "output_type": "display_data"
    },
    {
     "data": {
      "image/png": "[encoded data removed]",
      "text/plain": [
       "<Figure size 1200x800 with 1 Axes>"
      ]
     },
     "metadata": {},
     "output_type": "display_data"
    }
   ],
   "source": [
    "acf = plot_acf(df_energy_2019_to_2020_by_day['energy_price'], lags=60)\n",
    "pacf = plot_pacf(df_energy_2019_to_2020_by_day['energy_price'], lags=60)"
   ]
  },
  {
   "cell_type": "code",
   "execution_count": 9,
   "metadata": {},
   "outputs": [
    {
     "name": "stdout",
     "output_type": "stream",
     "text": [
      "acf:  [1.         0.90441227 0.82524946 0.7909448  0.78022993 0.7858688\n",
      " 0.79444365 0.81117864 0.7684769  0.72843656 0.708734   0.70885831\n",
      " 0.70322616 0.68756985 0.6878406  0.65773693 0.64173266 0.6296539\n",
      " 0.6308417  0.62951338 0.62813603 0.6430765  0.62199013 0.60744674\n",
      " 0.58938985 0.57721848 0.59055248 0.61217157 0.6276872  0.60315172\n",
      " 0.57353494 0.55296877 0.53494833 0.52844455 0.54490467 0.56755679\n",
      " 0.54397656 0.52340649 0.50627106 0.49623942 0.50082709 0.516024\n",
      " 0.53215171 0.49447683 0.46216371 0.44743008 0.44991676 0.46799502\n",
      " 0.48788582 0.50097433 0.46375935 0.43716943 0.42584152 0.42628556\n",
      " 0.43350794 0.4462156  0.47048683 0.45108197 0.44098631 0.43489988\n",
      " 0.43047715] pacf:  [ 1.00000000e+00  9.05238222e-01  4.04439318e-02  2.12817622e-01\n",
      "  1.61191283e-01  1.89033000e-01  1.51557090e-01  2.07103465e-01\n",
      " -2.10925656e-01  2.22239821e-02 -9.14996283e-03  7.04985964e-02\n",
      " -5.71216141e-02 -2.55337679e-02  5.49178066e-02 -8.60831533e-02\n",
      "  8.15913719e-02 -3.62320390e-02  6.06258256e-02  1.21548211e-02\n",
      "  1.10160708e-01  1.00676950e-01 -7.07051581e-02  3.24534418e-02\n",
      " -5.74859770e-02 -3.75112232e-02  1.30814059e-01  1.03229668e-01\n",
      " -5.41686011e-04 -6.28142811e-02 -7.06383243e-02 -3.30774794e-03\n",
      " -1.13639273e-01 -4.86208955e-02  7.94363302e-02  8.12255258e-02\n",
      " -5.31833136e-02  5.33206366e-02 -5.31059805e-02  8.21714953e-03\n",
      "  7.36372309e-02  8.07620533e-02  1.96640145e-02 -1.59805213e-01\n",
      " -1.76317856e-02 -3.99152215e-02  4.19915444e-02  5.85992637e-02\n",
      "  6.81153443e-02 -7.49945983e-04 -9.47637713e-02  4.97616356e-02\n",
      " -2.93150246e-02 -2.18901503e-02  1.05661348e-03  5.68614960e-02\n",
      "  1.18771668e-01 -2.55567619e-02  4.26911782e-02  7.36631008e-03\n",
      "  1.63881712e-03]\n"
     ]
    }
   ],
   "source": [
    "acf = sm.tsa.acf(df_energy_2019_to_2020_by_day['energy_price'], nlags = 60)\n",
    "pacf = sm.tsa.pacf(df_energy_2019_to_2020_by_day['energy_price'], nlags = 60)\n",
    "print('acf: ', acf, 'pacf: ', pacf)"
   ]
  },
  {
   "attachments": {},
   "cell_type": "markdown",
   "metadata": {},
   "source": [
    "Partial autocorrelation\n",
    "- significant correlation with lag 1 => Autoregression of order 1\n",
    "- negative correlation with lag 9\n",
    "- no correlation from 60 lags\n",
    "- no seasonality"
   ]
  }
 ],
 "metadata": {
  "kernelspec": {
   "display_name": "Techlabs",
   "language": "python",
   "name": "python3"
  },
  "language_info": {
   "codemirror_mode": {
    "name": "ipython",
    "version": 3
   },
   "file_extension": ".py",
   "mimetype": "text/x-python",
   "name": "python",
   "nbconvert_exporter": "python",
   "pygments_lexer": "ipython3",
   "version": "3.9.16"
  },
  "orig_nbformat": 4,
  "vscode": {
   "interpreter": {
    "hash": "41ac9e1861a44c3dba572e7e711f344eb493f0dc3ad8f854073c50171334b87a"
   }
  }
 },
 "nbformat": 4,
 "nbformat_minor": 2
}
