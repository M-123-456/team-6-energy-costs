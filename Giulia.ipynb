{
 "cells": [
  {
   "cell_type": "code",
   "execution_count": 7,
   "metadata": {},
   "outputs": [
    {
     "name": "stdout",
     "output_type": "stream",
     "text": [
      "                   UTC  Kernenergie  Nicht Erneuerbar  Erneuerbar  \\\n",
      "0  2020-01-01 00:00:00     8089.585         29700.989   14524.769   \n",
      "1  2020-01-01 00:15:00     8087.935         29597.398   14407.463   \n",
      "2  2020-01-01 00:30:00     8088.635         29433.049   14537.378   \n",
      "\n",
      "   DayAheadAuktion        Date      Hour  \n",
      "0             38.6  2020-01-01  00:00:00  \n",
      "1             38.6  2020-01-01  00:15:00  \n",
      "2             38.6  2020-01-01  00:30:00  \n",
      "UTC                         object\n",
      "Kernenergie                float64\n",
      "Nicht Erneuerbar           float64\n",
      "Erneuerbar                 float64\n",
      "DayAheadAuktion            float64\n",
      "Date                datetime64[ns]\n",
      "Hour                datetime64[ns]\n",
      "dtype: object\n",
      "        Kernenergie  Nicht Erneuerbar    Erneuerbar  DayAheadAuktion\n",
      "count  35136.000000      35136.000000  35136.000000     35136.000000\n",
      "mean    6934.673246      33765.069651  27962.757734        30.471738\n",
      "std      969.703507      11159.545300  12106.069379        17.501029\n",
      "min     3739.551000      11985.471000   7809.697000       -83.940000\n",
      "25%     6450.204500      25593.516000  18140.908750        21.750000\n",
      "50%     6793.422000      32771.112000  26610.473500        30.990000\n",
      "75%     7834.915000      39948.887250  36752.224000        40.250000\n",
      "max     8185.779000      68966.183000  69026.970000       200.040000\n",
      "                  Kernenergie  Nicht Erneuerbar  Erneuerbar  DayAheadAuktion\n",
      "Kernenergie          1.000000          0.407680   -0.135737         0.372776\n",
      "Nicht Erneuerbar     0.407680          1.000000   -0.459684         0.796859\n",
      "Erneuerbar          -0.135737         -0.459684    1.000000        -0.512600\n",
      "DayAheadAuktion      0.372776          0.796859   -0.512600         1.000000\n",
      "                       UTC  Kernenergie  Nicht Erneuerbar  Erneuerbar  \\\n",
      "2876   2020-01-30 23:00:00     5899.795         20563.634   49402.678   \n",
      "2877   2020-01-30 23:15:00     5872.460         20287.281   49728.046   \n",
      "2878   2020-01-30 23:30:00     5833.776         20277.786   50155.762   \n",
      "2879   2020-01-30 23:45:00     5686.229         20160.199   50263.991   \n",
      "2884   2020-01-31 01:00:00     5444.088         19611.207   50075.310   \n",
      "...                    ...          ...               ...         ...   \n",
      "34719  2020-12-27 15:45:00     7767.326         19887.960   49204.121   \n",
      "34720  2020-12-27 16:00:00     7886.917         20023.963   49118.496   \n",
      "34721  2020-12-27 16:15:00     7972.733         20147.148   49065.324   \n",
      "34722  2020-12-27 16:30:00     7976.123         20170.534   49098.061   \n",
      "34723  2020-12-27 16:45:00     7981.772         20151.004   48758.221   \n",
      "\n",
      "       DayAheadAuktion       Date                Hour  \n",
      "2876             -0.04 2020-01-30 2023-02-01 23:00:00  \n",
      "2877             -0.04 2020-01-30 2023-02-01 23:15:00  \n",
      "2878             -0.04 2020-01-30 2023-02-01 23:30:00  \n",
      "2879             -0.04 2020-01-30 2023-02-01 23:45:00  \n",
      "2884             -8.77 2020-01-31 2023-02-01 01:00:00  \n",
      "...                ...        ...                 ...  \n",
      "34719            -7.77 2020-12-27 2023-02-01 15:45:00  \n",
      "34720            -0.58 2020-12-27 2023-02-01 16:00:00  \n",
      "34721            -0.58 2020-12-27 2023-02-01 16:15:00  \n",
      "34722            -0.58 2020-12-27 2023-02-01 16:30:00  \n",
      "34723            -0.58 2020-12-27 2023-02-01 16:45:00  \n",
      "\n",
      "[1192 rows x 7 columns]\n"
     ]
    },
    {
     "name": "stderr",
     "output_type": "stream",
     "text": [
      "C:\\Users\\gcanc\\AppData\\Local\\Temp\\ipykernel_15968\\2259351272.py:35: FutureWarning: The default value of numeric_only in DataFrame.corr is deprecated. In a future version, it will default to False. Select only valid columns or specify the value of numeric_only to silence this warning.\n",
      "  print(df.corr())\n"
     ]
    }
   ],
   "source": [
    "# imports\n",
    "import pandas as pd\n",
    "import matplotlib.pyplot as plt\n",
    "import numpy as np\n",
    "import datetime\n",
    "import time\n",
    "\n",
    "# read file\n",
    "df = pd.read_csv(\"./data/energy-charts_Stromproduktion_und_Börsenstrompreise_in_Deutschland_2020_Excel.csv\", sep=';')\n",
    "\n",
    "# delete empty row\n",
    "del df['Import Saldo']\n",
    "\n",
    "# rename cloumn\n",
    "df.rename(columns={'Day Ahead Auktion (DE-LU)': 'DayAheadAuktion', 'Datum (MT+1)': 'UTC'}, inplace = True)\n",
    "\n",
    "# Check Datatypes\n",
    "#print(df.dtypes)\n",
    "\n",
    "# add weekday column\n",
    "#df['Weekday'] = df['UTC'].dt.day_name()\n",
    "\n",
    "# add Date and Time column\n",
    "df[['Date', 'Hour']] = df.UTC.str.split(' ', expand=True)\n",
    "print(df.head(3))\n",
    "\n",
    "# Change Date Datarype from object to datetime\n",
    "df['Date'] = pd.to_datetime(df['Date'])\n",
    "df['Hour'] = pd.to_datetime(df['Hour'])\n",
    "print(df.dtypes)\n",
    "\n",
    "# Analysis\n",
    "print(df.describe())\n",
    "print(df.corr())\n",
    "\n",
    "# Data, DAA under 0\n",
    "print(df.loc[df['DayAheadAuktion'].astype(float)<0])\n",
    "\n",
    "# Correlations\n",
    "#correlation = np.corrcoef(df['DayAheadAuktion'], df['Hour'])[0,1]\n",
    "#print(correlation)\n",
    "\n",
    "# plots erstellen\n",
    "#df.groupby(df['UTC'].dt.hour)[\n",
    "#df = df.set_index('Hour')\n",
    "#df.plot()\n",
    "\n",
    "# Exponential smoothing"
   ]
  },
  {
   "cell_type": "code",
   "execution_count": null,
   "metadata": {},
   "outputs": [],
   "source": []
  }
 ],
 "metadata": {
  "kernelspec": {
   "display_name": "Python 3",
   "language": "python",
   "name": "python3"
  },
  "language_info": {
   "codemirror_mode": {
    "name": "ipython",
    "version": 3
   },
   "file_extension": ".py",
   "mimetype": "text/x-python",
   "name": "python",
   "nbconvert_exporter": "python",
   "pygments_lexer": "ipython3",
   "version": "3.11.1"
  },
  "orig_nbformat": 4,
  "vscode": {
   "interpreter": {
    "hash": "5a61799f35856568c88c9adcaaef00a87e97a17a435e8c1064fb5107ad478b6f"
   }
  }
 },
 "nbformat": 4,
 "nbformat_minor": 2
}
