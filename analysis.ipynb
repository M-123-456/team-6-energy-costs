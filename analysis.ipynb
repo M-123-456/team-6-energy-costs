{
 "cells": [
  {
   "cell_type": "code",
   "execution_count": 2,
   "metadata": {},
   "outputs": [],
   "source": [
    "import numpy as np\n",
    "import pandas as pd\n",
    "from datetime import datetime\n",
    "import seaborn as sns\n",
    "import matplotlib.pyplot as plt\n",
    "from statsmodels.tsa.holtwinters import ExponentialSmoothing, SimpleExpSmoothing, Holt"
   ]
  },
  {
   "cell_type": "code",
   "execution_count": 4,
   "metadata": {},
   "outputs": [],
   "source": [
    "df_energy = pd.read_csv('./data/prepared/df_energy_2020.csv')"
   ]
  },
  {
   "attachments": {},
   "cell_type": "markdown",
   "metadata": {},
   "source": [
    "## Overview of each figure"
   ]
  },
  {
   "cell_type": "code",
   "execution_count": 21,
   "metadata": {},
   "outputs": [
    {
     "data": {
      "text/html": [
       "<div>\n",
       "<style scoped>\n",
       "    .dataframe tbody tr th:only-of-type {\n",
       "        vertical-align: middle;\n",
       "    }\n",
       "\n",
       "    .dataframe tbody tr th {\n",
       "        vertical-align: top;\n",
       "    }\n",
       "\n",
       "    .dataframe thead th {\n",
       "        text-align: right;\n",
       "    }\n",
       "</style>\n",
       "<table border=\"1\" class=\"dataframe\">\n",
       "  <thead>\n",
       "    <tr style=\"text-align: right;\">\n",
       "      <th></th>\n",
       "      <th>nuclear_power</th>\n",
       "      <th>not_renewable</th>\n",
       "      <th>renewable</th>\n",
       "      <th>energy_price</th>\n",
       "    </tr>\n",
       "  </thead>\n",
       "  <tbody>\n",
       "    <tr>\n",
       "      <th>count</th>\n",
       "      <td>35136.000000</td>\n",
       "      <td>35136.000000</td>\n",
       "      <td>35136.000000</td>\n",
       "      <td>35136.000000</td>\n",
       "    </tr>\n",
       "    <tr>\n",
       "      <th>mean</th>\n",
       "      <td>6934.673246</td>\n",
       "      <td>33765.069651</td>\n",
       "      <td>27962.757734</td>\n",
       "      <td>30.471738</td>\n",
       "    </tr>\n",
       "    <tr>\n",
       "      <th>std</th>\n",
       "      <td>969.703507</td>\n",
       "      <td>11159.545300</td>\n",
       "      <td>12106.069379</td>\n",
       "      <td>17.501029</td>\n",
       "    </tr>\n",
       "    <tr>\n",
       "      <th>min</th>\n",
       "      <td>3739.551000</td>\n",
       "      <td>11985.471000</td>\n",
       "      <td>7809.697000</td>\n",
       "      <td>-83.940000</td>\n",
       "    </tr>\n",
       "    <tr>\n",
       "      <th>25%</th>\n",
       "      <td>6450.204500</td>\n",
       "      <td>25593.516000</td>\n",
       "      <td>18140.908750</td>\n",
       "      <td>21.750000</td>\n",
       "    </tr>\n",
       "    <tr>\n",
       "      <th>50%</th>\n",
       "      <td>6793.422000</td>\n",
       "      <td>32771.112000</td>\n",
       "      <td>26610.473500</td>\n",
       "      <td>30.990000</td>\n",
       "    </tr>\n",
       "    <tr>\n",
       "      <th>75%</th>\n",
       "      <td>7834.915000</td>\n",
       "      <td>39948.887250</td>\n",
       "      <td>36752.224000</td>\n",
       "      <td>40.250000</td>\n",
       "    </tr>\n",
       "    <tr>\n",
       "      <th>max</th>\n",
       "      <td>8185.779000</td>\n",
       "      <td>68966.183000</td>\n",
       "      <td>69026.970000</td>\n",
       "      <td>200.040000</td>\n",
       "    </tr>\n",
       "  </tbody>\n",
       "</table>\n",
       "</div>"
      ],
      "text/plain": [
       "       nuclear_power  not_renewable     renewable  energy_price\n",
       "count   35136.000000   35136.000000  35136.000000  35136.000000\n",
       "mean     6934.673246   33765.069651  27962.757734     30.471738\n",
       "std       969.703507   11159.545300  12106.069379     17.501029\n",
       "min      3739.551000   11985.471000   7809.697000    -83.940000\n",
       "25%      6450.204500   25593.516000  18140.908750     21.750000\n",
       "50%      6793.422000   32771.112000  26610.473500     30.990000\n",
       "75%      7834.915000   39948.887250  36752.224000     40.250000\n",
       "max      8185.779000   68966.183000  69026.970000    200.040000"
      ]
     },
     "execution_count": 21,
     "metadata": {},
     "output_type": "execute_result"
    }
   ],
   "source": [
    "df_energy[['nuclear_power', 'not_renewable', 'renewable', 'energy_price']].describe()"
   ]
  },
  {
   "attachments": {},
   "cell_type": "markdown",
   "metadata": {},
   "source": [
    "#### What does it mean when energy price reached minus?\n",
    "Negative electricity prices (or very low electricity prices) occur in wholesale trading when there is a surplus of electricity. Or, in other words, when electricity generation exceeds electricity consumption. Such a situation arises, among other things, when there is a very high feed-in of very low-priced electricity from wind, as is the case at the moment.\n",
    "<br />\n",
    "[General information about energy price](https://www.enbw.com/energie-entdecken/energiewirtschaft-und-politik/energiewirtschaft/strommarkt.html)"
   ]
  },
  {
   "attachments": {},
   "cell_type": "markdown",
   "metadata": {},
   "source": [
    "## Correlation between the key figures "
   ]
  },
  {
   "cell_type": "code",
   "execution_count": 6,
   "metadata": {},
   "outputs": [
    {
     "data": {
      "text/html": [
       "<div>\n",
       "<style scoped>\n",
       "    .dataframe tbody tr th:only-of-type {\n",
       "        vertical-align: middle;\n",
       "    }\n",
       "\n",
       "    .dataframe tbody tr th {\n",
       "        vertical-align: top;\n",
       "    }\n",
       "\n",
       "    .dataframe thead th {\n",
       "        text-align: right;\n",
       "    }\n",
       "</style>\n",
       "<table border=\"1\" class=\"dataframe\">\n",
       "  <thead>\n",
       "    <tr style=\"text-align: right;\">\n",
       "      <th></th>\n",
       "      <th>nuclear_power</th>\n",
       "      <th>not_renewable</th>\n",
       "      <th>renewable</th>\n",
       "      <th>energy_price</th>\n",
       "    </tr>\n",
       "  </thead>\n",
       "  <tbody>\n",
       "    <tr>\n",
       "      <th>nuclear_power</th>\n",
       "      <td>1.000000</td>\n",
       "      <td>0.407680</td>\n",
       "      <td>-0.135737</td>\n",
       "      <td>0.372776</td>\n",
       "    </tr>\n",
       "    <tr>\n",
       "      <th>not_renewable</th>\n",
       "      <td>0.407680</td>\n",
       "      <td>1.000000</td>\n",
       "      <td>-0.459684</td>\n",
       "      <td>0.796859</td>\n",
       "    </tr>\n",
       "    <tr>\n",
       "      <th>renewable</th>\n",
       "      <td>-0.135737</td>\n",
       "      <td>-0.459684</td>\n",
       "      <td>1.000000</td>\n",
       "      <td>-0.512600</td>\n",
       "    </tr>\n",
       "    <tr>\n",
       "      <th>energy_price</th>\n",
       "      <td>0.372776</td>\n",
       "      <td>0.796859</td>\n",
       "      <td>-0.512600</td>\n",
       "      <td>1.000000</td>\n",
       "    </tr>\n",
       "  </tbody>\n",
       "</table>\n",
       "</div>"
      ],
      "text/plain": [
       "               nuclear_power  not_renewable  renewable  energy_price\n",
       "nuclear_power       1.000000       0.407680  -0.135737      0.372776\n",
       "not_renewable       0.407680       1.000000  -0.459684      0.796859\n",
       "renewable          -0.135737      -0.459684   1.000000     -0.512600\n",
       "energy_price        0.372776       0.796859  -0.512600      1.000000"
      ]
     },
     "execution_count": 6,
     "metadata": {},
     "output_type": "execute_result"
    }
   ],
   "source": [
    "df_energy.loc[:,['nuclear_power', 'not_renewable', 'renewable', 'energy_price']].corr()"
   ]
  },
  {
   "attachments": {},
   "cell_type": "markdown",
   "metadata": {},
   "source": [
    "- Renewable energy has a **negative** correlation to energy price\n",
    "- Not renewable energy has a **strong** correlation to energy price"
   ]
  },
  {
   "attachments": {},
   "cell_type": "markdown",
   "metadata": {},
   "source": [
    "## Analysis - Day of week"
   ]
  },
  {
   "attachments": {},
   "cell_type": "markdown",
   "metadata": {},
   "source": [
    "### Day of week and Energy Price"
   ]
  },
  {
   "attachments": {},
   "cell_type": "markdown",
   "metadata": {},
   "source": [
    "## Overview of key figures grouped by day of week"
   ]
  },
  {
   "cell_type": "code",
   "execution_count": 10,
   "metadata": {},
   "outputs": [],
   "source": [
    "df_energy['datetime'] = pd.to_datetime(df_energy['datetime'])\n",
    "df_energy['dayofweek'] = df_energy['datetime'].dt.day_of_week\n",
    "grp_day_of_week = df_energy.groupby(['dayofweek'])"
   ]
  },
  {
   "cell_type": "code",
   "execution_count": 14,
   "metadata": {},
   "outputs": [
    {
     "data": {
      "text/html": [
       "<div>\n",
       "<style scoped>\n",
       "    .dataframe tbody tr th:only-of-type {\n",
       "        vertical-align: middle;\n",
       "    }\n",
       "\n",
       "    .dataframe tbody tr th {\n",
       "        vertical-align: top;\n",
       "    }\n",
       "\n",
       "    .dataframe thead th {\n",
       "        text-align: right;\n",
       "    }\n",
       "</style>\n",
       "<table border=\"1\" class=\"dataframe\">\n",
       "  <thead>\n",
       "    <tr style=\"text-align: right;\">\n",
       "      <th></th>\n",
       "      <th>count</th>\n",
       "      <th>mean</th>\n",
       "      <th>std</th>\n",
       "      <th>min</th>\n",
       "      <th>25%</th>\n",
       "      <th>50%</th>\n",
       "      <th>75%</th>\n",
       "      <th>max</th>\n",
       "    </tr>\n",
       "    <tr>\n",
       "      <th>dayofweek</th>\n",
       "      <th></th>\n",
       "      <th></th>\n",
       "      <th></th>\n",
       "      <th></th>\n",
       "      <th></th>\n",
       "      <th></th>\n",
       "      <th></th>\n",
       "      <th></th>\n",
       "    </tr>\n",
       "  </thead>\n",
       "  <tbody>\n",
       "    <tr>\n",
       "      <th>0</th>\n",
       "      <td>4992.0</td>\n",
       "      <td>32.391106</td>\n",
       "      <td>18.979678</td>\n",
       "      <td>-78.15</td>\n",
       "      <td>22.6125</td>\n",
       "      <td>33.365</td>\n",
       "      <td>43.2925</td>\n",
       "      <td>200.04</td>\n",
       "    </tr>\n",
       "    <tr>\n",
       "      <th>1</th>\n",
       "      <td>4992.0</td>\n",
       "      <td>33.767548</td>\n",
       "      <td>18.152121</td>\n",
       "      <td>-83.94</td>\n",
       "      <td>24.2775</td>\n",
       "      <td>33.000</td>\n",
       "      <td>42.4600</td>\n",
       "      <td>189.25</td>\n",
       "    </tr>\n",
       "    <tr>\n",
       "      <th>2</th>\n",
       "      <td>5088.0</td>\n",
       "      <td>35.137555</td>\n",
       "      <td>15.999207</td>\n",
       "      <td>-29.98</td>\n",
       "      <td>25.5375</td>\n",
       "      <td>33.785</td>\n",
       "      <td>43.2300</td>\n",
       "      <td>114.00</td>\n",
       "    </tr>\n",
       "    <tr>\n",
       "      <th>3</th>\n",
       "      <td>5088.0</td>\n",
       "      <td>35.097586</td>\n",
       "      <td>14.358696</td>\n",
       "      <td>-1.58</td>\n",
       "      <td>25.7650</td>\n",
       "      <td>34.040</td>\n",
       "      <td>43.1850</td>\n",
       "      <td>110.13</td>\n",
       "    </tr>\n",
       "    <tr>\n",
       "      <th>4</th>\n",
       "      <td>4992.0</td>\n",
       "      <td>33.382268</td>\n",
       "      <td>13.440421</td>\n",
       "      <td>-8.77</td>\n",
       "      <td>24.9200</td>\n",
       "      <td>33.595</td>\n",
       "      <td>41.2525</td>\n",
       "      <td>106.35</td>\n",
       "    </tr>\n",
       "    <tr>\n",
       "      <th>5</th>\n",
       "      <td>4992.0</td>\n",
       "      <td>25.210457</td>\n",
       "      <td>12.838657</td>\n",
       "      <td>-11.16</td>\n",
       "      <td>17.1250</td>\n",
       "      <td>26.260</td>\n",
       "      <td>34.0000</td>\n",
       "      <td>58.00</td>\n",
       "    </tr>\n",
       "    <tr>\n",
       "      <th>6</th>\n",
       "      <td>4992.0</td>\n",
       "      <td>18.136963</td>\n",
       "      <td>20.075361</td>\n",
       "      <td>-74.97</td>\n",
       "      <td>7.5700</td>\n",
       "      <td>21.445</td>\n",
       "      <td>32.0100</td>\n",
       "      <td>58.97</td>\n",
       "    </tr>\n",
       "  </tbody>\n",
       "</table>\n",
       "</div>"
      ],
      "text/plain": [
       "            count       mean        std    min      25%     50%      75%  \\\n",
       "dayofweek                                                                  \n",
       "0          4992.0  32.391106  18.979678 -78.15  22.6125  33.365  43.2925   \n",
       "1          4992.0  33.767548  18.152121 -83.94  24.2775  33.000  42.4600   \n",
       "2          5088.0  35.137555  15.999207 -29.98  25.5375  33.785  43.2300   \n",
       "3          5088.0  35.097586  14.358696  -1.58  25.7650  34.040  43.1850   \n",
       "4          4992.0  33.382268  13.440421  -8.77  24.9200  33.595  41.2525   \n",
       "5          4992.0  25.210457  12.838657 -11.16  17.1250  26.260  34.0000   \n",
       "6          4992.0  18.136963  20.075361 -74.97   7.5700  21.445  32.0100   \n",
       "\n",
       "              max  \n",
       "dayofweek          \n",
       "0          200.04  \n",
       "1          189.25  \n",
       "2          114.00  \n",
       "3          110.13  \n",
       "4          106.35  \n",
       "5           58.00  \n",
       "6           58.97  "
      ]
     },
     "execution_count": 14,
     "metadata": {},
     "output_type": "execute_result"
    }
   ],
   "source": [
    "grp_day_of_week['energy_price'].describe()"
   ]
  },
  {
   "attachments": {},
   "cell_type": "markdown",
   "metadata": {},
   "source": [
    "(0: Monday - 6: Sunday)\n",
    "<br/>\n",
    "- Energy price on weekend are lower than on weekdays\n",
    "- Mean and median are almost the same -> the prices are more or less evenly distributed from the lowest to highest price"
   ]
  },
  {
   "attachments": {},
   "cell_type": "markdown",
   "metadata": {},
   "source": [
    "#### Box plot of energy price by day of week"
   ]
  },
  {
   "cell_type": "code",
   "execution_count": 17,
   "metadata": {},
   "outputs": [
    {
     "data": {
      "text/plain": [
       "<AxesSubplot: xlabel='dayofweek', ylabel='energy_price'>"
      ]
     },
     "execution_count": 17,
     "metadata": {},
     "output_type": "execute_result"
    },
    {
     "data": {
      "image/png": "[encoded data removed]",
      "text/plain": [
       "<Figure size 800x600 with 1 Axes>"
      ]
     },
     "metadata": {},
     "output_type": "display_data"
    }
   ],
   "source": [
    "plt.figure(figsize=(8, 6))\n",
    "sns.boxplot(\n",
    "    x=df_energy['dayofweek'], \n",
    "    y=df_energy['energy_price'] \n",
    "    )"
   ]
  },
  {
   "attachments": {},
   "cell_type": "markdown",
   "metadata": {},
   "source": [
    "- Weekdays don't seem to have a crutial influence on the energy price.\n",
    "- Energy price tends to decrease slightly on weekends.\n",
    "- Energy price on Saturday seem to be most stable.\n",
    "<br />\n",
    "[Article about the relation between energy cost and day of week](https://www.finanztip.de/stromtarife/variable-stromtarife/)"
   ]
  },
  {
   "attachments": {},
   "cell_type": "markdown",
   "metadata": {},
   "source": [
    "### Day of week and energy feeding volume\n",
    "This analysis was done to analyse the reason of lower energy prices on weekends."
   ]
  },
  {
   "cell_type": "code",
   "execution_count": 24,
   "metadata": {},
   "outputs": [],
   "source": [
    "df_energy['total_feeding_volume'] = df_energy['renewable'] + df_energy['nuclear_power'] + df_energy['not_renewable']"
   ]
  },
  {
   "cell_type": "code",
   "execution_count": 27,
   "metadata": {},
   "outputs": [],
   "source": [
    "df_energy_reshape = df_energy.melt(['datetime', 'dayofweek', 'energy_price', 'date', 'hour', 'month'], var_name='type_of_power', value_name='feeding_volume')"
   ]
  },
  {
   "cell_type": "code",
   "execution_count": 28,
   "metadata": {},
   "outputs": [
    {
     "data": {
      "text/plain": [
       "<AxesSubplot: xlabel='type_of_power', ylabel='feeding_volume'>"
      ]
     },
     "execution_count": 28,
     "metadata": {},
     "output_type": "execute_result"
    },
    {
     "data": {
      "image/png": "[encoded data removed]",
      "text/plain": [
       "<Figure size 1200x600 with 1 Axes>"
      ]
     },
     "metadata": {},
     "output_type": "display_data"
    }
   ],
   "source": [
    "plt.figure(figsize=(12, 6))\n",
    "sns.boxplot(\n",
    "    data=df_energy_reshape,\n",
    "    x='type_of_power',\n",
    "    y='feeding_volume',\n",
    "    hue='dayofweek',\n",
    ")"
   ]
  },
  {
   "attachments": {},
   "cell_type": "markdown",
   "metadata": {},
   "source": [
    "- No significant differences on feeding volume of nuclear power and renewable energy per day of week\n",
    "- Feeding volume of not renewable energy is considerably less (by about 10.000 MW)\n",
    "#### Our Assumption\n",
    "Total feeding volume of renewable energy is the same also on weekends, but the demand is less (refer to the article above), so that the feeding volume of not renewable energy becomes lower, which leads to the lower price."
   ]
  },
  {
   "cell_type": "code",
   "execution_count": null,
   "metadata": {},
   "outputs": [],
   "source": []
  },
  {
   "cell_type": "code",
   "execution_count": null,
   "metadata": {},
   "outputs": [],
   "source": []
  }
 ],
 "metadata": {
  "kernelspec": {
   "display_name": "Techlabs",
   "language": "python",
   "name": "python3"
  },
  "language_info": {
   "codemirror_mode": {
    "name": "ipython",
    "version": 3
   },
   "file_extension": ".py",
   "mimetype": "text/x-python",
   "name": "python",
   "nbconvert_exporter": "python",
   "pygments_lexer": "ipython3",
   "version": "3.9.16"
  },
  "orig_nbformat": 4
 },
 "nbformat": 4,
 "nbformat_minor": 2
}
